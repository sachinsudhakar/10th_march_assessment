{
 "cells": [
  {
   "cell_type": "markdown",
   "id": "c719cfe1",
   "metadata": {},
   "source": [
    "# Given an array of length ‘N’, where each element denotes the position of a stall. Now you have ‘N’ stalls and an integer ‘K’ which denotes the number of horses that are mad. To prevent the horses from hurting each other, you need to assign the horses to the stalls, such that the minimum distance between any two of them is as large as possible. Return the largest minimum distance.\n",
    "\n",
    "array: 1,2,4,8,9  &  k=3\n",
    "\n",
    "O/P: 3\n",
    "\n",
    "Explanation: 1st horse at stall 1, 2nd horse at stall 4 and 3rd horse at stall 8\n"
   ]
  },
  {
   "cell_type": "code",
   "execution_count": 1,
   "id": "e681778e",
   "metadata": {},
   "outputs": [
    {
     "name": "stdout",
     "output_type": "stream",
     "text": [
      "3\n"
     ]
    }
   ],
   "source": [
    "def min_distance_between_horses(stalls, k):\n",
    "    stalls.sort()\n",
    "    left, right = 0, stalls[-1] - stalls[0]\n",
    "\n",
    "    while left < right:\n",
    "        mid = (left + right) // 2\n",
    "        count = 1\n",
    "        current_stall = stalls[0]\n",
    "\n",
    "        for stall in stalls:\n",
    "            if stall - current_stall >= mid:\n",
    "                count += 1\n",
    "                current_stall = stall\n",
    "\n",
    "        if count >= k:\n",
    "            left = mid + 1\n",
    "        else:\n",
    "            right = mid\n",
    "\n",
    "    return left - 1\n",
    "\n",
    "# Example usage\n",
    "stalls = [1, 2, 4, 8, 9]\n",
    "k = 3\n",
    "print(min_distance_between_horses(stalls, k))  # Output: 3"
   ]
  },
  {
   "cell_type": "markdown",
   "id": "5ab5f4ba",
   "metadata": {},
   "source": [
    "# Mr. Karthiken works in a door mat manufacturing company. One day, he designed a new door mat with the following specifications:\n",
    "\n",
    "             a) Mat size must be N X M. (N is an odd natural number, and M is 3 times N.)\n",
    "              b) The design should have ‘WELCOME’ written in the center.\n",
    "              c) The design pattern should only use |, . and – characters.\n",
    "\n",
    "    Sample Design is given above image, Write a python code for this."
   ]
  },
  {
   "cell_type": "code",
   "execution_count": 2,
   "id": "4977b9dd",
   "metadata": {},
   "outputs": [
    {
     "name": "stdout",
     "output_type": "stream",
     "text": [
      "---------.|.---------\n",
      "------.|..|..|.------\n",
      "---.|..|..|..|..|.---\n",
      "-------WELCOME-------\n",
      "---.|..|..|..|..|.---\n",
      "------.|..|..|.------\n",
      "---------.|.---------\n"
     ]
    }
   ],
   "source": [
    "def create_door_mat(N, M):\n",
    "    # Check if N is odd\n",
    "    if N % 2 == 0:\n",
    "        raise ValueError(\"N must be an odd natural number\")\n",
    "\n",
    "    # Calculate the center index for 'WELCOME'\n",
    "    center_index = M // 2\n",
    "\n",
    "    # Print the top part of the door mat\n",
    "    for i in range(N // 2):\n",
    "        pattern = \".|.\" * (2 * i + 1)\n",
    "        print(pattern.center(M, '-'))\n",
    "\n",
    "    # Print the 'WELCOME' line\n",
    "    print(\"WELCOME\".center(M, '-'))\n",
    "\n",
    "    # Print the bottom part of the door mat\n",
    "    for i in range(N // 2 - 1, -1, -1):\n",
    "        pattern = \".|.\" * (2 * i + 1)\n",
    "        print(pattern.center(M, '-'))\n",
    "\n",
    "# Example usage\n",
    "N = 7  # N should be an odd natural number\n",
    "M = 3 * N\n",
    "create_door_mat(N, M)\n"
   ]
  },
  {
   "cell_type": "markdown",
   "id": "eeeb2fc2",
   "metadata": {},
   "source": [
    "# Given an array nums of n integers, return an array of all the unique quadruplets [nums[a], nums[b], nums[c], nums[d]] such that:\n",
    "\n",
    "   a) 0 <= a, b, c, d < n\n",
    "   b) a, b, c, and d are distinct.\n",
    "   c) nums[a] + nums[b] + nums[c] + nums[d] == target"
   ]
  },
  {
   "cell_type": "code",
   "execution_count": 3,
   "id": "1e79572f",
   "metadata": {},
   "outputs": [
    {
     "name": "stdout",
     "output_type": "stream",
     "text": [
      "[[-2, -1, 1, 2], [-2, 0, 0, 2], [-1, 0, 0, 1]]\n"
     ]
    }
   ],
   "source": [
    "def four_sum(nums, target):\n",
    "    nums.sort()\n",
    "    result = []\n",
    "    n = len(nums)\n",
    "\n",
    "    for i in range(n - 3):\n",
    "        # Skip duplicates for the first element\n",
    "        if i > 0 and nums[i] == nums[i - 1]:\n",
    "            continue\n",
    "\n",
    "        for j in range(i + 1, n - 2):\n",
    "            # Skip duplicates for the second element\n",
    "            if j > i + 1 and nums[j] == nums[j - 1]:\n",
    "                continue\n",
    "\n",
    "            left = j + 1\n",
    "            right = n - 1\n",
    "\n",
    "            while left < right:\n",
    "                current_sum = nums[i] + nums[j] + nums[left] + nums[right]\n",
    "                if current_sum == target:\n",
    "                    result.append([nums[i], nums[j], nums[left], nums[right]])\n",
    "\n",
    "                    # Skip duplicates for the third element\n",
    "                    while left < right and nums[left] == nums[left + 1]:\n",
    "                        left += 1\n",
    "                    # Skip duplicates for the fourth element\n",
    "                    while left < right and nums[right] == nums[right - 1]:\n",
    "                        right -= 1\n",
    "\n",
    "                    left += 1\n",
    "                    right -= 1\n",
    "                elif current_sum < target:\n",
    "                    left += 1\n",
    "                else:\n",
    "                    right -= 1\n",
    "\n",
    "    return result\n",
    "\n",
    "# Example usage\n",
    "nums = [1, 0, -1, 0, -2, 2]\n",
    "target = 0\n",
    "print(four_sum(nums, target))\n"
   ]
  },
  {
   "cell_type": "markdown",
   "id": "e43f7014",
   "metadata": {},
   "source": [
    "# You have an input dictionary given,\n",
    "\n",
    "input_dict = {\"abc\":{\"def\":{\"ghi\":{\"jkl\":{\"mno\":{\"pqr\":{\"stu\":{\"vwx\":{\"yz\":\"you are finally here !!!\"}}}}}}}}}\n",
    "\n",
    "Task:  You have to write a Python function that will take this input and print it like that,\n",
    "\n",
    "output = {\"abc\":[\"def\",\"ghi\",\"jkl\",\"mno\",\"pqr\",\"stu\",\"vwx\",\"yz\"],\n",
    " \"def\":[\"ghi\",\"jkl\",\"mno\",\"pqr\",\"stu\",\"vwx\",\"yz\"],\n",
    " \"ghi\":[\"jkl\",\"mno\",\"pqr\",\"stu\",\"vwx\",\"yz\"],\n",
    " \"jkl\":[\"mno\",\"pqr\",\"stu\",\"vwx\",\"yz\"],\n",
    " \"mno\":[\"pqr\",\"stu\",\"vwx\",\"yz\"],\n",
    " \"pqr\":[\"stu\",\"vwx\",\"yz\"],\n",
    " \"stu\":[\"vwx\",\"yz\"],\n",
    " \"vwx\":[\"yz\"],\n",
    " \"yz\":[\"you are finally here !!!\"]}"
   ]
  },
  {
   "cell_type": "code",
   "execution_count": 4,
   "id": "b2d9f27c",
   "metadata": {},
   "outputs": [
    {
     "name": "stdout",
     "output_type": "stream",
     "text": [
      "{'abc': [], 'abc.def': [], 'abc.def.ghi': [], 'abc.def.ghi.jkl': [], 'abc.def.ghi.jkl.mno': [], 'abc.def.ghi.jkl.mno.pqr': [], 'abc.def.ghi.jkl.mno.pqr.stu': [], 'abc.def.ghi.jkl.mno.pqr.stu.vwx': [], 'abc.def.ghi.jkl.mno.pqr.stu.vwx.yz': ['you are finally here !!!']}\n"
     ]
    }
   ],
   "source": [
    "def print_dict(input_dict):\n",
    "    def helper(input_dict, output, current_path):\n",
    "        for key, value in input_dict.items():\n",
    "            new_path = current_path + [key]\n",
    "            if isinstance(value, dict):\n",
    "                output[\".\".join(new_path)] = []\n",
    "                helper(value, output, new_path)\n",
    "            else:\n",
    "                output[\".\".join(new_path)] = [value]\n",
    "\n",
    "    output = {}\n",
    "    helper(input_dict, output, [])\n",
    "    print(output)\n",
    "\n",
    "# Example usage:\n",
    "input_dict = {\"abc\":{\"def\":{\"ghi\":{\"jkl\":{\"mno\":{\"pqr\":{\"stu\":{\"vwx\":{\"yz\":\"you are finally here !!!\"}}}}}}}}}\n",
    "print_dict(input_dict)"
   ]
  },
  {
   "cell_type": "code",
   "execution_count": null,
   "id": "319eb324",
   "metadata": {},
   "outputs": [],
   "source": []
  }
 ],
 "metadata": {
  "kernelspec": {
   "display_name": "Python 3 (ipykernel)",
   "language": "python",
   "name": "python3"
  },
  "language_info": {
   "codemirror_mode": {
    "name": "ipython",
    "version": 3
   },
   "file_extension": ".py",
   "mimetype": "text/x-python",
   "name": "python",
   "nbconvert_exporter": "python",
   "pygments_lexer": "ipython3",
   "version": "3.10.9"
  }
 },
 "nbformat": 4,
 "nbformat_minor": 5
}
