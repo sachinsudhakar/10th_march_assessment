{
 "cells": [
  {
   "cell_type": "markdown",
   "id": "9694a377",
   "metadata": {},
   "source": [
    "# 1.What is the meaning of six sigma in statistics?  Give proper example\n",
    "\n",
    "ans:-\n",
    "\n",
    "\n",
    "Six Sigma is a statistical methodology used in business and industry to improve the quality of processes and products.The term \"Six Sigma\" refers to a level of quality that allows only 3.4 defects per million opportunities, which translates to a defect rate of 0.00034%.\n",
    "To apply Six Sigma methodology, the company initiates a DMAIC project:\n",
    "\n",
    "Define: The company defines the problem as high defect rate in the production line and sets a goal to reduce the defect rate to 0.00034% (Six Sigma level).\n",
    "Measure: Data is collected on the defect rate of the current process, including the types of defects and their frequency.\n",
    "Analyze: Statistical analysis is conducted to identify the root causes of defects, such as equipment malfunctions, operator errors, or variations in raw materials.\n",
    "Improve: Based on the analysis, process improvements are implemented, such as repairing or replacing faulty equipment, providing additional training to operators, or implementing stricter quality control measures.\n",
    "Control: Controls are established to monitor the process and ensure that improvements are sustained over time. Regular audits and performance tracking are conducted to prevent defects from recurring.\n"
   ]
  },
  {
   "cell_type": "markdown",
   "id": "701b9d5d",
   "metadata": {},
   "source": [
    "# What type of data does not have a log-normal distribution or a Gaussian distribution?  Give proper example\n",
    "\n",
    "ans:-\n",
    "\n",
    "There are many examples of data that do not follow a Gaussian (normal) or log-normal distribution. Some examples include:\n",
    "\n",
    "Power law distribution: This type of distribution is characterized by a heavy tail, meaning that there are a few very large values that occur with low probability.\n",
    "\n",
    "Exponential distribution: This distribution describes the time between events in a process that occurs at a constant average rate and is often used to model the decay of a radioactive substance.\n",
    "\n",
    "Pareto distribution: This distribution is often used to describe wealth distribution, where a small number of people hold a large proportion of the total wealth.\n",
    "\n",
    "Poisson distribution: This distribution is used to model the number of events occurring in a fixed interval of time or space, given a constant average rate of occurrence.\n",
    "\n",
    "Uniform distribution: In this distribution, all outcomes are equally likely, and the probability density function is constant within a given interval.\n",
    "\n",
    "Example: Income Distribution\n",
    "\n",
    "One common example of non-normally distributed data is the distribution of income. Income data often shows a right-skewed distribution, meaning that there are a few individuals with very high incomes, creating a tail on the right side of the distribution. Most people fall within the middle to lower income ranges. This distribution does not conform to a normal distribution because it lacks symmetry.\n",
    "\n",
    "In summary, income distribution is an example of non-normally distributed data characterized by skewness, where the majority of observations are clustered toward the lower or middle income levels, and a few high-income earners create a right-skewed tail."
   ]
  },
  {
   "cell_type": "markdown",
   "id": "d9d846ce",
   "metadata": {},
   "source": [
    "# What is the meaning of the five-number summary in Statistics? Give proper example\n",
    "\n",
    "\n",
    "ans:-\n",
    "\n",
    "The five-number summary is a set of descriptive statistics that provides a concise summary of the distribution of a dataset. It consists of five values: the minimum, the first quartile (Q1), the median (Q2), the third quartile (Q3), and the maximum. These values help to understand the spread and central tendency of the data."
   ]
  },
  {
   "cell_type": "code",
   "execution_count": 2,
   "id": "e5acf70c",
   "metadata": {},
   "outputs": [
    {
     "name": "stdout",
     "output_type": "stream",
     "text": [
      "Minimum: 65\n",
      "Q1 (First Quartile): 75.5\n",
      "Median (Second Quartile): 87.5\n",
      "Q3 (Third Quartile): 94.25\n",
      "Maximum: 100\n"
     ]
    }
   ],
   "source": [
    "# import numpy as np\n",
    "exam_scores = [65, 72, 74, 80, 85, 90, 92, 95, 98, 100]\n",
    "\n",
    "# Calculate the five-number summary\n",
    "minimum = np.min(exam_scores)\n",
    "q1 = np.percentile(exam_scores, 25)\n",
    "median = np.median(exam_scores)\n",
    "q3 = np.percentile(exam_scores, 75)\n",
    "maximum = np.max(exam_scores)\n",
    "\n",
    "# Print the five-number summary\n",
    "print(\"Minimum:\", minimum)\n",
    "print(\"Q1 (First Quartile):\", q1)\n",
    "print(\"Median (Second Quartile):\", median)\n",
    "print(\"Q3 (Third Quartile):\", q3)\n",
    "print(\"Maximum:\", maximum)\n"
   ]
  },
  {
   "cell_type": "markdown",
   "id": "c9873ef6",
   "metadata": {},
   "source": [
    "# What is correlation? Give an example with a dataset & graphical representation on jupyter Notebook# What is correlation? Give an example with a dataset & graphical representation on jupyter Notebook\n",
    "\n",
    "ans:-\n",
    "\n",
    "Correlation is a statistical measure that tells us how strong and weak relationship is between two variables.\n",
    "A correlation coefficient, typically denoted as \n",
    "r which is used to measure correlation, with values ranging from -1 to 1\n",
    "if r is closer to 1 than strong po"
   ]
  },
  {
   "cell_type": "code",
   "execution_count": null,
   "id": "a26b25a1",
   "metadata": {},
   "outputs": [],
   "source": []
  }
 ],
 "metadata": {
  "kernelspec": {
   "display_name": "Python 3 (ipykernel)",
   "language": "python",
   "name": "python3"
  },
  "language_info": {
   "codemirror_mode": {
    "name": "ipython",
    "version": 3
   },
   "file_extension": ".py",
   "mimetype": "text/x-python",
   "name": "python",
   "nbconvert_exporter": "python",
   "pygments_lexer": "ipython3",
   "version": "3.10.9"
  }
 },
 "nbformat": 4,
 "nbformat_minor": 5
}
