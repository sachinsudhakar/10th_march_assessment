{
 "cells": [
  {
   "cell_type": "markdown",
   "id": "ad1189a2",
   "metadata": {},
   "source": [
    "# (a) Explain how you can implement DL in a real-world application.\n",
    "\n",
    "(b) What is the use of Activation function in Artificial Neural Networks? What would be the problem if we don't use it in ANN networks.\n",
    "\n",
    "\n",
    "ans:-\n",
    "\n",
    "\n",
    "Define the Problem:\n",
    "\n",
    "Clearly understand the problem you want to solve and determine whether DL is the right approach. DL is suitable for tasks such as image recognition, natural language processing, and speech recognition.\n",
    "\n",
    "Data Collection and Preprocessing :\n",
    "\n",
    "Gather a diverse and representative dataset for training, validation, and testing. Clean and preprocess the data to handle missing values, outliers, and ensure it's suitable for DL.\n",
    "\n",
    "Data Splitting:\n",
    "\n",
    "Split the dataset into training, validation, and test sets to train and evaluate the model.\n",
    "\n",
    "Model Selection:\n",
    "\n",
    "Choose a DL architecture that suits your problem. Common architectures include Convolutional Neural Networks(CNNs) for image tasks, Recurrent Neural Networks (RNNs) for sequential data, and Transformer models for natural language processing.\n",
    "\n",
    "Model Building:\n",
    "\n",
    "Implement the chosen DL model using a deep learning framework like TensorFlow or PyTorch. Configure the layers, activation functions, and other hyperparameters.\n",
    "\n",
    "Training:\n",
    "\n",
    "Train the model on the training dataset using an appropriate optimization algorithm. Monitor training metrics and adjust hyperparameters as needed. Validate the model on the validation set to prevent overfitting.\n",
    "\n",
    "Evaluation:\n",
    "\n",
    "Evaluate the trained model on the test set to assess its performance on unseen data. Analyze metrics such as accuracy, precision, recall, F1 score, or other relevant metrics based on your problem.\n",
    "\n",
    "Fine-Tuning:\n",
    "\n",
    "If the model's performance is not satisfactory, consider fine-tuning the architecture, hyperparameters, or collecting additional data.\n",
    "\n",
    "Deployment: bold text Once satisfied with the model's performance, deploy it in a real-world setting. Integrate the model into your application, whether it's a web service, mobile app, or other systems.\n",
    "\n",
    "Monitoring and Maintenance:\n",
    "\n",
    "Implement monitoring mechanisms to track the model's performance in the production environment.\n",
    "\n",
    "B)\n",
    "\n",
    "Introducing Non-linearity: This non-linearity allows the network to learn and approximate complex, non-linear relationships in the data.\n",
    "\n",
    "Learning Complex Patterns: Activation functions enable ANNs to model and understand these complexities.\n",
    "\n",
    "Enabling Stacking of Layers: Stacking layers creates hierarchical representations of features, allowing the network to learn abstract and hierarchical features from the input data.\n",
    "\n",
    "Handling Variations in Data: Activation functions help the network handle variations in the input data. Different activation functions have different characteristics, and choosing the appropriate one depends on the nature of the problem."
   ]
  }
 ],
 "metadata": {
  "kernelspec": {
   "display_name": "Python 3 (ipykernel)",
   "language": "python",
   "name": "python3"
  },
  "language_info": {
   "codemirror_mode": {
    "name": "ipython",
    "version": 3
   },
   "file_extension": ".py",
   "mimetype": "text/x-python",
   "name": "python",
   "nbconvert_exporter": "python",
   "pygments_lexer": "ipython3",
   "version": "3.10.9"
  }
 },
 "nbformat": 4,
 "nbformat_minor": 5
}
