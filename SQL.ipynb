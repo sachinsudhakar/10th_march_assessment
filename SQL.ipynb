{
 "cells": [
  {
   "cell_type": "markdown",
   "id": "1f09b1c0",
   "metadata": {},
   "source": [
    "# 1.What will be the result of the query below?\n",
    "\n",
    "SELECT * FROM runners WHERE id NOT IN (SELECT winner_id FROM races)\n",
    "\n",
    "Explain your answer and also provide an alternative version of this query that will avoid the issue that it exposes.\n",
    "\n",
    "\n",
    "ans:-\n",
    "\n",
    "\n",
    "SELECT r.*\n",
    "FROM runners r\n",
    "LEFT JOIN races ra ON r.id = ra.winner_id\n",
    "WHERE ra.winner_id IS NULL;\n"
   ]
  },
  {
   "cell_type": "markdown",
   "id": "ba3af229",
   "metadata": {},
   "source": [
    "# 2.Write a query to fetch values in table test_a that are and not in test_b without using the NOT keyword.\n",
    "\n",
    "ans:-\n",
    "\n",
    "select * from test_a except select * from test_b;"
   ]
  },
  {
   "cell_type": "markdown",
   "id": "22ca7b37",
   "metadata": {},
   "source": [
    "# 3.Given the following tables: Write a query to to get the list of users who took the a training lesson more than once in the same day, grouped by user and training lesson, each ordered from the most recent lesson date to oldest date.\n",
    "\n",
    "\n",
    "ans:-\n",
    "\n",
    "SELECT u.user_id, username, training_id, training_date, count( user_training_id ) AS count FROM users u JOIN training_details t ON t.user_id = u.user_id GROUP BY u.user_id, username, training_id, training_date HAVING count( user_training_id ) > 1 ORDER BY training_date DESC;\n"
   ]
  },
  {
   "cell_type": "markdown",
   "id": "64818ba9",
   "metadata": {},
   "source": [
    "# Consider the Employee table below.\n",
    "\n",
    "ans:-\n",
    "\n",
    "select b.emp_id as \"Manager_Id\", b.emp_name as \"Manager\", avg(a.salary) as \"Average_Salary_Under_Manager\" from Employee a, Employee b where a.manager_id = b.emp_id group by b.emp_id, b.emp_name order by b.emp_id;\n"
   ]
  }
 ],
 "metadata": {
  "kernelspec": {
   "display_name": "Python 3 (ipykernel)",
   "language": "python",
   "name": "python3"
  },
  "language_info": {
   "codemirror_mode": {
    "name": "ipython",
    "version": 3
   },
   "file_extension": ".py",
   "mimetype": "text/x-python",
   "name": "python",
   "nbconvert_exporter": "python",
   "pygments_lexer": "ipython3",
   "version": "3.10.9"
  }
 },
 "nbformat": 4,
 "nbformat_minor": 5
}
